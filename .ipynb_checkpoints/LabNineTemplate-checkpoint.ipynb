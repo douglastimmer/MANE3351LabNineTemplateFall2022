{
 "cells": [
  {
   "cell_type": "markdown",
   "id": "a692e2a0",
   "metadata": {},
   "source": [
    "# MANE 3351\n",
    "## Lab Nine\n",
    "## My Name\n",
    "## My Student ID Number"
   ]
  },
  {
   "cell_type": "markdown",
   "id": "6753b7cc",
   "metadata": {},
   "source": [
    "## Numerical Integration\n",
    "\n",
    "*Describe the numerical integration method you selected for this lab and the reason for your selection.*"
   ]
  },
  {
   "cell_type": "code",
   "execution_count": null,
   "id": "db6567da",
   "metadata": {},
   "outputs": [],
   "source": [
    "# Python code cell for Lab 9\n",
    "# Enter your code below"
   ]
  }
 ],
 "metadata": {
  "kernelspec": {
   "display_name": "Python 3 (ipykernel)",
   "language": "python",
   "name": "python3"
  },
  "language_info": {
   "codemirror_mode": {
    "name": "ipython",
    "version": 3
   },
   "file_extension": ".py",
   "mimetype": "text/x-python",
   "name": "python",
   "nbconvert_exporter": "python",
   "pygments_lexer": "ipython3",
   "version": "3.9.12"
  }
 },
 "nbformat": 4,
 "nbformat_minor": 5
}
